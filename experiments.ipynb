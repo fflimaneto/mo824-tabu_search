{
 "cells": [
  {
   "cell_type": "code",
   "execution_count": 1,
   "id": "4f1fe16c",
   "metadata": {},
   "outputs": [],
   "source": [
    "from scqbf.scqbf_evaluator import *\n",
    "from scqbf.scqbf_solution import *\n",
    "from scqbf.scqbf_ts import *\n",
    "from scqbf.scqbf_instance import *\n",
    "\n",
    "import pandas as pd\n",
    "import numpy as np\n",
    "import pickle"
   ]
  },
  {
   "cell_type": "code",
   "execution_count": 2,
   "id": "1a497ed1",
   "metadata": {},
   "outputs": [],
   "source": [
    "instance_paths = [(f\"instances/gen{i}/instance{j}.txt\", i, j) for i in range(1, 4) for j in range(1, 6)]"
   ]
  },
  {
   "cell_type": "code",
   "execution_count": 3,
   "id": "95fe74aa",
   "metadata": {},
   "outputs": [],
   "source": [
    "tenure_1 = lambda x: math.ceil(math.sqrt(x))\n",
    "tenure_2 = lambda x: min(math.ceil(x/4), 20) # Inspired by MATLAB's default (https://in.mathworks.com/help/matlab/math/solve-qubo-tabu-search.html)\n",
    "tenure_3 = lambda x: 10 # Fixed small tenure (Extra)"
   ]
  },
  {
   "cell_type": "code",
   "execution_count": 4,
   "id": "df7085fb",
   "metadata": {},
   "outputs": [],
   "source": [
    "def run_experiment(config: dict, tenure_func) -> pd.DataFrame:\n",
    "    results = []\n",
    "    exp_num = 1\n",
    "\n",
    "    for instance_path, gen, inst in instance_paths:\n",
    "        instance = read_max_sc_qbf_instance(instance_path)\n",
    "        print(f\"{exp_num}: {inst}th instance of generation strategy {gen}. Path: {instance_path}\")\n",
    "        exp_num += 1\n",
    "        \n",
    "        time_limit = 60*30\n",
    "        tenure = tenure_func(instance.n)\n",
    "        tabu_search = ScQbfTabuSearch(instance, config=config, max_iterations=None, time_limit_secs=time_limit, tenure=tenure, patience=1000)\n",
    "        best_solution = tabu_search.solve()\n",
    "\n",
    "        if tabu_search.solve_time >= time_limit:\n",
    "            stop_reason = \"time_limit\"\n",
    "        else:\n",
    "            stop_reason = \"patience_exceeded\" \n",
    "        \n",
    "        evaluator = ScQbfEvaluator(instance)\n",
    "        \n",
    "        results.append({\n",
    "            'gen': gen,\n",
    "            'inst': inst,\n",
    "            'n': instance.n,\n",
    "            'stop_reason': stop_reason,\n",
    "            'best_objective': evaluator.evaluate_objfun(best_solution),\n",
    "            'coverage': evaluator.evaluate_coverage(best_solution),\n",
    "            'time_taken': tabu_search.solve_time\n",
    "        })\n",
    "        \n",
    "        last_result = results[-1]\n",
    "        print(f\"\\tBest objective value: {last_result['best_objective']:.4f}\")\n",
    "        print(f\"Selected elements: {best_solution.elements}\")\n",
    "        print(f\"\\tCoverage: {last_result['coverage']:.2%}\")\n",
    "        print(f\"\\tTime taken (secs): {last_result['time_taken']:.4f} s\")\n",
    "        print(f\"\\tStop reason: {last_result['stop_reason']}\")\n",
    "        print()\n",
    "    \n",
    "    df = pd.DataFrame(results)\n",
    "    return df"
   ]
  },
  {
   "cell_type": "markdown",
   "id": "632903cd",
   "metadata": {},
   "source": [
    "## Configuração 1 - PADRÃO:\n",
    "GRASP com parâmetro α1 , first-improving e heurística construtiva padrão."
   ]
  },
  {
   "cell_type": "code",
   "execution_count": 5,
   "id": "bf22a137",
   "metadata": {},
   "outputs": [
    {
     "name": "stdout",
     "output_type": "stream",
     "text": [
      "1: 1th instance of generation strategy 1. Path: instances/gen1/instance1.txt\n"
     ]
    },
    {
     "ename": "KeyboardInterrupt",
     "evalue": "",
     "output_type": "error",
     "traceback": [
      "\u001b[31m---------------------------------------------------------------------------\u001b[39m",
      "\u001b[31mKeyboardInterrupt\u001b[39m                         Traceback (most recent call last)",
      "\u001b[36mCell\u001b[39m\u001b[36m \u001b[39m\u001b[32mIn[5]\u001b[39m\u001b[32m, line 5\u001b[39m\n\u001b[32m      1\u001b[39m config_1 = {\n\u001b[32m      2\u001b[39m     \u001b[33m\"\u001b[39m\u001b[33mlocal_search_method\u001b[39m\u001b[33m\"\u001b[39m: \u001b[33m\"\u001b[39m\u001b[33mbest_improve\u001b[39m\u001b[33m\"\u001b[39m,\n\u001b[32m      3\u001b[39m     \u001b[33m\"\u001b[39m\u001b[33mdiversification_method\u001b[39m\u001b[33m\"\u001b[39m: \u001b[33m\"\u001b[39m\u001b[33minfrequent_elements\u001b[39m\u001b[33m\"\u001b[39m,\n\u001b[32m      4\u001b[39m }\n\u001b[32m----> \u001b[39m\u001b[32m5\u001b[39m results_df = \u001b[43mrun_experiment\u001b[49m\u001b[43m(\u001b[49m\u001b[43mconfig_1\u001b[49m\u001b[43m,\u001b[49m\u001b[43m \u001b[49m\u001b[43mtenure_1\u001b[49m\u001b[43m)\u001b[49m\n\u001b[32m      7\u001b[39m \u001b[38;5;28;01mwith\u001b[39;00m \u001b[38;5;28mopen\u001b[39m(\u001b[33m\"\u001b[39m\u001b[33mpickles/results_config_1.pkl\u001b[39m\u001b[33m\"\u001b[39m, \u001b[33m\"\u001b[39m\u001b[33mwb\u001b[39m\u001b[33m\"\u001b[39m) \u001b[38;5;28;01mas\u001b[39;00m f:\n\u001b[32m      8\u001b[39m     pickle.dump(results_df, f)\n",
      "\u001b[36mCell\u001b[39m\u001b[36m \u001b[39m\u001b[32mIn[4]\u001b[39m\u001b[32m, line 13\u001b[39m, in \u001b[36mrun_experiment\u001b[39m\u001b[34m(config, tenure_func)\u001b[39m\n\u001b[32m     11\u001b[39m tenure = tenure_func(instance.n)\n\u001b[32m     12\u001b[39m tabu_search = ScQbfTabuSearch(instance, config=config, max_iterations=\u001b[38;5;28;01mNone\u001b[39;00m, time_limit_secs=time_limit, tenure=tenure, patience=\u001b[32m1000\u001b[39m)\n\u001b[32m---> \u001b[39m\u001b[32m13\u001b[39m best_solution = \u001b[43mtabu_search\u001b[49m\u001b[43m.\u001b[49m\u001b[43msolve\u001b[49m\u001b[43m(\u001b[49m\u001b[43m)\u001b[49m\n\u001b[32m     15\u001b[39m \u001b[38;5;28;01mif\u001b[39;00m tabu_search.solve_time >= time_limit:\n\u001b[32m     16\u001b[39m     stop_reason = \u001b[33m\"\u001b[39m\u001b[33mtime_limit\u001b[39m\u001b[33m\"\u001b[39m\n",
      "\u001b[36mFile \u001b[39m\u001b[32md:\\Coisas\\Docs\\_PDFs Facul\\Mestrado\\PO\\mo824-trabalho-3\\mo824-tabu_search\\mo824-tabu_search\\scqbf\\scqbf_ts.py:67\u001b[39m, in \u001b[36mScQbfTabuSearch.solve\u001b[39m\u001b[34m(self)\u001b[39m\n\u001b[32m     62\u001b[39m \u001b[38;5;28mself\u001b[39m.iterations += \u001b[32m1\u001b[39m\n\u001b[32m     64\u001b[39m \u001b[38;5;66;03m# if self.debug:\u001b[39;00m\n\u001b[32m     65\u001b[39m \u001b[38;5;66;03m#     print(f\"Iteration {self.iterations}: Current value {self.evaluator.evaluate_objfun(sol)} and best value {self.evaluator.evaluate_objfun(best_sol)}\")\u001b[39;00m\n\u001b[32m---> \u001b[39m\u001b[32m67\u001b[39m sol = \u001b[38;5;28;43mself\u001b[39;49m\u001b[43m.\u001b[49m\u001b[43m_local_search\u001b[49m\u001b[43m(\u001b[49m\u001b[43msol\u001b[49m\u001b[43m)\u001b[49m\n\u001b[32m     69\u001b[39m \u001b[38;5;28;01mif\u001b[39;00m (\u001b[38;5;28mself\u001b[39m.evaluator.evaluate_objfun(sol) > \u001b[38;5;28mself\u001b[39m.evaluator.evaluate_objfun(best_sol)):\n\u001b[32m     70\u001b[39m     best_sol = sol\n",
      "\u001b[36mFile \u001b[39m\u001b[32md:\\Coisas\\Docs\\_PDFs Facul\\Mestrado\\PO\\mo824-trabalho-3\\mo824-tabu_search\\mo824-tabu_search\\scqbf\\scqbf_ts.py:172\u001b[39m, in \u001b[36mScQbfTabuSearch._local_search\u001b[39m\u001b[34m(self, starting_point)\u001b[39m\n\u001b[32m    170\u001b[39m \u001b[38;5;28;01mdef\u001b[39;00m\u001b[38;5;250m \u001b[39m\u001b[34m_local_search\u001b[39m(\u001b[38;5;28mself\u001b[39m, starting_point: ScQbfSolution) -> ScQbfSolution:\n\u001b[32m    171\u001b[39m     \u001b[38;5;28;01mif\u001b[39;00m \u001b[38;5;28mself\u001b[39m.config.get(\u001b[33m\"\u001b[39m\u001b[33mlocal_search_method\u001b[39m\u001b[33m\"\u001b[39m, \u001b[38;5;28;01mFalse\u001b[39;00m) == \u001b[33m\"\u001b[39m\u001b[33mbest_improve\u001b[39m\u001b[33m\"\u001b[39m:\n\u001b[32m--> \u001b[39m\u001b[32m172\u001b[39m         \u001b[38;5;28;01mreturn\u001b[39;00m \u001b[38;5;28;43mself\u001b[39;49m\u001b[43m.\u001b[49m\u001b[43m_local_search_best_improve\u001b[49m\u001b[43m(\u001b[49m\u001b[43mstarting_point\u001b[49m\u001b[43m)\u001b[49m\n\u001b[32m    173\u001b[39m     \u001b[38;5;28;01melif\u001b[39;00m \u001b[38;5;28mself\u001b[39m.config.get(\u001b[33m\"\u001b[39m\u001b[33mlocal_search_method\u001b[39m\u001b[33m\"\u001b[39m, \u001b[38;5;28;01mFalse\u001b[39;00m) == \u001b[33m\"\u001b[39m\u001b[33mfirst_improve\u001b[39m\u001b[33m\"\u001b[39m:\n\u001b[32m    174\u001b[39m         \u001b[38;5;28;01mreturn\u001b[39;00m \u001b[38;5;28mself\u001b[39m._local_search_first_improve(starting_point)\n",
      "\u001b[36mFile \u001b[39m\u001b[32md:\\Coisas\\Docs\\_PDFs Facul\\Mestrado\\PO\\mo824-trabalho-3\\mo824-tabu_search\\mo824-tabu_search\\scqbf\\scqbf_ts.py:209\u001b[39m, in \u001b[36mScQbfTabuSearch._local_search_best_improve\u001b[39m\u001b[34m(self, starting_point)\u001b[39m\n\u001b[32m    207\u001b[39m \u001b[38;5;28;01mfor\u001b[39;00m cand_in \u001b[38;5;129;01min\u001b[39;00m cl:\n\u001b[32m    208\u001b[39m     \u001b[38;5;28;01mfor\u001b[39;00m cand_out \u001b[38;5;129;01min\u001b[39;00m sol.elements:\n\u001b[32m--> \u001b[39m\u001b[32m209\u001b[39m         delta = \u001b[38;5;28;43mself\u001b[39;49m\u001b[43m.\u001b[49m\u001b[43mevaluator\u001b[49m\u001b[43m.\u001b[49m\u001b[43mevaluate_exchange_delta\u001b[49m\u001b[43m(\u001b[49m\u001b[43mcand_in\u001b[49m\u001b[43m,\u001b[49m\u001b[43m \u001b[49m\u001b[43mcand_out\u001b[49m\u001b[43m,\u001b[49m\u001b[43m \u001b[49m\u001b[43msol\u001b[49m\u001b[43m)\u001b[49m\n\u001b[32m    210\u001b[39m         \u001b[38;5;28;01mif\u001b[39;00m delta > best_delta \u001b[38;5;129;01mand\u001b[39;00m ((cand_in \u001b[38;5;129;01mnot\u001b[39;00m \u001b[38;5;129;01min\u001b[39;00m \u001b[38;5;28mself\u001b[39m.TL \u001b[38;5;129;01mand\u001b[39;00m cand_out \u001b[38;5;129;01mnot\u001b[39;00m \u001b[38;5;129;01min\u001b[39;00m \u001b[38;5;28mself\u001b[39m.TL) \u001b[38;5;129;01mor\u001b[39;00m \u001b[38;5;28mself\u001b[39m.currentValue + delta > \u001b[38;5;28mself\u001b[39m.bestValue):\n\u001b[32m    211\u001b[39m             \u001b[38;5;66;03m# Check if this exchange would break feasibility\u001b[39;00m\n\u001b[32m    212\u001b[39m             temp_sol = ScQbfSolution(sol.elements.copy())\n",
      "\u001b[36mFile \u001b[39m\u001b[32md:\\Coisas\\Docs\\_PDFs Facul\\Mestrado\\PO\\mo824-trabalho-3\\mo824-tabu_search\\mo824-tabu_search\\scqbf\\scqbf_evaluator.py:80\u001b[39m, in \u001b[36mScQbfEvaluator.evaluate_exchange_delta\u001b[39m\u001b[34m(self, elem_in, elem_out, solution)\u001b[39m\n\u001b[32m     77\u001b[39m total = \u001b[32m0.0\u001b[39m\n\u001b[32m     79\u001b[39m total += \u001b[38;5;28mself\u001b[39m._evaluate_element_contribution(elem_in, solution)\n\u001b[32m---> \u001b[39m\u001b[32m80\u001b[39m total -= \u001b[38;5;28;43mself\u001b[39;49m\u001b[43m.\u001b[49m\u001b[43m_evaluate_element_contribution\u001b[49m\u001b[43m(\u001b[49m\u001b[43melem_out\u001b[49m\u001b[43m,\u001b[49m\u001b[43m \u001b[49m\u001b[43msolution\u001b[49m\u001b[43m)\u001b[49m\n\u001b[32m     82\u001b[39m \u001b[38;5;66;03m# Subtract interaction between elem_in and elem_out\u001b[39;00m\n\u001b[32m     83\u001b[39m total -= (A[elem_in][elem_out] + A[elem_out][elem_in])\n",
      "\u001b[36mFile \u001b[39m\u001b[32md:\\Coisas\\Docs\\_PDFs Facul\\Mestrado\\PO\\mo824-trabalho-3\\mo824-tabu_search\\mo824-tabu_search\\scqbf\\scqbf_evaluator.py:37\u001b[39m, in \u001b[36mScQbfEvaluator._evaluate_element_contribution\u001b[39m\u001b[34m(self, elem, solution)\u001b[39m\n\u001b[32m     35\u001b[39m \u001b[38;5;28;01mfor\u001b[39;00m j \u001b[38;5;129;01min\u001b[39;00m solution.elements:\n\u001b[32m     36\u001b[39m     \u001b[38;5;28;01mif\u001b[39;00m j != elem:  \u001b[38;5;66;03m# Avoid self-interaction in the loop\u001b[39;00m\n\u001b[32m---> \u001b[39m\u001b[32m37\u001b[39m         total += A[elem][j] + A[j][elem]\n\u001b[32m     39\u001b[39m \u001b[38;5;66;03m# Add diagonal element contribution\u001b[39;00m\n\u001b[32m     40\u001b[39m total += A[elem][elem]\n",
      "\u001b[31mKeyboardInterrupt\u001b[39m: "
     ]
    }
   ],
   "source": [
    "config_1 = {\n",
    "    \"local_search_method\": \"best_improve\",\n",
    "    \"diversification_method\": \"infrequent_elements\",\n",
    "}\n",
    "results_df = run_experiment(config_1, tenure_1)\n",
    "\n",
    "with open(\"pickles/results_config_1.pkl\", \"wb\") as f:\n",
    "    pickle.dump(results_df, f)\n",
    "\n",
    "display(results_df)"
   ]
  }
 ],
 "metadata": {
  "kernelspec": {
   "display_name": "venv",
   "language": "python",
   "name": "python3"
  },
  "language_info": {
   "codemirror_mode": {
    "name": "ipython",
    "version": 3
   },
   "file_extension": ".py",
   "mimetype": "text/x-python",
   "name": "python",
   "nbconvert_exporter": "python",
   "pygments_lexer": "ipython3",
   "version": "3.12.10"
  }
 },
 "nbformat": 4,
 "nbformat_minor": 5
}
